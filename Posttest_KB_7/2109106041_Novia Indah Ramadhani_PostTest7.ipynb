{
 "cells": [
  {
   "cell_type": "markdown",
   "id": "fe677909-330b-49fd-92a9-c607b6b01ef3",
   "metadata": {},
   "source": [
    "# Post Test 7 | Tensor Flow\n",
    "#### Nama   : Novia Indah Ramadhani\n",
    "#### NIM    : 2109106041\n",
    "#### Kelas  : A2 2021"
   ]
  },
  {
   "cell_type": "markdown",
   "id": "f5d75102-2b39-4f99-9da9-e307006db774",
   "metadata": {},
   "source": [
    "### Import Library"
   ]
  },
  {
   "cell_type": "code",
   "execution_count": 2,
   "id": "30ec6b51-b9f5-407f-8193-aeba9333f780",
   "metadata": {},
   "outputs": [],
   "source": [
    "import tensorflow as tf\n",
    "import numpy as np"
   ]
  },
  {
   "cell_type": "markdown",
   "id": "94c1a310-36bc-4645-8af6-453391fcee86",
   "metadata": {},
   "source": [
    "### Buatlah sebuah tensor dengan shape(5,5) dengan nilai random yang disimpan dalam variable random_tensor\n",
    "- Membuat tensor dengan nilai random unifrom -> persebaran nilai tengahnya lebih banyak, dengan nilai min=1, max=25\n",
    "- Mengganti tipe data menjadi int32 agar menyamakan tipe datanya = variabel prime_tensor"
   ]
  },
  {
   "cell_type": "code",
   "execution_count": 3,
   "id": "3434d3f6-fd42-4f20-91cc-33a31113d762",
   "metadata": {},
   "outputs": [
    {
     "name": "stdout",
     "output_type": "stream",
     "text": [
      "tf.Tensor(\n",
      "[[19  1  7 22 16]\n",
      " [13 20  5  9  2]\n",
      " [17 24  9 11  2]\n",
      " [23  9 17 10 13]\n",
      " [ 9  1  9  7  8]], shape=(5, 5), dtype=int32)\n"
     ]
    }
   ],
   "source": [
    "random_tensor = tf.random.uniform(shape = (5,5), minval=1, maxval=25, dtype=tf.int32)\n",
    "random_tensor.numpy()\n",
    "print(random_tensor)"
   ]
  },
  {
   "cell_type": "markdown",
   "id": "64af03b6-7d36-4dc7-9f4b-a86fe1a19975",
   "metadata": {},
   "source": [
    "### Buatlah sebuah tensor dengan shape(5,5) dari sebuah list dengan nilai bilangan prima dalam variable prime_tensor\n",
    "- Masukkan bilangan prima ke dalam list dengan shape 5,5\n",
    "- Kemudia convert list tersebut ke dalam tensor menggunakan convert_to_tensor"
   ]
  },
  {
   "cell_type": "code",
   "execution_count": 5,
   "id": "495e06d8-f5cc-4a45-aff0-9bbaef21008d",
   "metadata": {},
   "outputs": [
    {
     "name": "stdout",
     "output_type": "stream",
     "text": [
      "tf.Tensor(\n",
      "[[  2   3   5   7  11]\n",
      " [ 17  19  23  29  31]\n",
      " [ 37  41  43  47  53]\n",
      " [ 59  61  67  71  73]\n",
      " [ 79  83  89  97 101]], shape=(5, 5), dtype=int32)\n"
     ]
    }
   ],
   "source": [
    "list_prime = [[2, 3, 5, 7, 11], [17, 19, 23, 29, 31], [37, 41, 43, 47, 53], [59, 61, 67, 71, 73], [79, 83, 89, 97, 101]]\n",
    "prime_tensor = tf.convert_to_tensor(list_prime)\n",
    "prime_tensor.numpy()\n",
    "print(prime_tensor)"
   ]
  },
  {
   "cell_type": "markdown",
   "id": "121d74cc-5f45-479f-8a30-c76acf20d69f",
   "metadata": {},
   "source": [
    "### Tampilkan dimensi dari kedua variable tersebut\n",
    "Menampilkan dimensi menggunakan .shape"
   ]
  },
  {
   "cell_type": "code",
   "execution_count": 22,
   "id": "162ce089-131b-43ca-aa24-1cb415b10806",
   "metadata": {},
   "outputs": [
    {
     "name": "stdout",
     "output_type": "stream",
     "text": [
      "Display Dimensi Variabel random_tensor = (5, 5)\n",
      "Display Dimensi Variabel prime_tensor = (5, 5)\n"
     ]
    }
   ],
   "source": [
    "print(f'Display Dimensi Variabel random_tensor = {random_tensor.shape}')\n",
    "print(f'Display Dimensi Variabel prime_tensor = {prime_tensor.shape}')"
   ]
  },
  {
   "cell_type": "markdown",
   "id": "f9290171-9700-412a-90f8-13fcfa2d3abc",
   "metadata": {},
   "source": [
    "### Tampilkan hasil dari perhitungan aritmetika 2 variable tersebut (Gunakan minimal 5 operator)"
   ]
  },
  {
   "cell_type": "markdown",
   "id": "9c5a459b-6279-42d2-b089-9b3930cbfb87",
   "metadata": {},
   "source": [
    "#### [1] ADD"
   ]
  },
  {
   "cell_type": "code",
   "execution_count": 28,
   "id": "14cb5c33-4f67-4b1d-8361-9e038651f79d",
   "metadata": {},
   "outputs": [
    {
     "name": "stdout",
     "output_type": "stream",
     "text": [
      "Random Tensor = \n",
      " [[19  1  7 22 16]\n",
      " [13 20  5  9  2]\n",
      " [17 24  9 11  2]\n",
      " [23  9 17 10 13]\n",
      " [ 9  1  9  7  8]]\n",
      " Prime Tensor = \n",
      " [[  2   3   5   7  11]\n",
      " [ 17  19  23  29  31]\n",
      " [ 37  41  43  47  53]\n",
      " [ 59  61  67  71  73]\n",
      " [ 79  83  89  97 101]]\n",
      "========================================\n",
      " Hasil Random Tensor + Prime Tensor = \n",
      " [[ 21   4  12  29  27]\n",
      " [ 30  39  28  38  33]\n",
      " [ 54  65  52  58  55]\n",
      " [ 82  70  84  81  86]\n",
      " [ 88  84  98 104 109]]\n"
     ]
    }
   ],
   "source": [
    "jumlah = tf.add(random_tensor, prime_tensor)\n",
    "jumlah.numpy()\n",
    "\n",
    "print(f'Random Tensor = \\n {random_tensor}')\n",
    "print(f' Prime Tensor = \\n {prime_tensor}')\n",
    "print(\"========================================\")\n",
    "print(f' Hasil Random Tensor + Prime Tensor = \\n {jumlah}')"
   ]
  },
  {
   "cell_type": "markdown",
   "id": "82f46829-a909-4845-b868-f278620586f8",
   "metadata": {},
   "source": [
    "#### [2] SUBTRACT"
   ]
  },
  {
   "cell_type": "code",
   "execution_count": 29,
   "id": "399f8b33-25b9-404b-99db-aea6fbf8c9ff",
   "metadata": {},
   "outputs": [
    {
     "name": "stdout",
     "output_type": "stream",
     "text": [
      "Random Tensor = \n",
      " [[19  1  7 22 16]\n",
      " [13 20  5  9  2]\n",
      " [17 24  9 11  2]\n",
      " [23  9 17 10 13]\n",
      " [ 9  1  9  7  8]]\n",
      " Prime Tensor = \n",
      " [[  2   3   5   7  11]\n",
      " [ 17  19  23  29  31]\n",
      " [ 37  41  43  47  53]\n",
      " [ 59  61  67  71  73]\n",
      " [ 79  83  89  97 101]]\n",
      "========================================\n",
      " Hasil Random Tensor - Prime Tensor = \n",
      " [[ 17  -2   2  15   5]\n",
      " [ -4   1 -18 -20 -29]\n",
      " [-20 -17 -34 -36 -51]\n",
      " [-36 -52 -50 -61 -60]\n",
      " [-70 -82 -80 -90 -93]]\n"
     ]
    }
   ],
   "source": [
    "kurang = tf.subtract(random_tensor, prime_tensor)\n",
    "kurang.numpy()\n",
    "\n",
    "print(f'Random Tensor = \\n {random_tensor}')\n",
    "print(f' Prime Tensor = \\n {prime_tensor}')\n",
    "print(\"========================================\")\n",
    "print(f' Hasil Random Tensor - Prime Tensor = \\n {kurang}')"
   ]
  },
  {
   "cell_type": "markdown",
   "id": "c7141e2a-ed53-463a-a2b3-c6c10796178a",
   "metadata": {},
   "source": [
    "#### [3] MULTIPLY"
   ]
  },
  {
   "cell_type": "code",
   "execution_count": 30,
   "id": "31922054-ab56-401d-a9d7-58f8ecc275c4",
   "metadata": {},
   "outputs": [
    {
     "name": "stdout",
     "output_type": "stream",
     "text": [
      "Random Tensor = \n",
      " [[19  1  7 22 16]\n",
      " [13 20  5  9  2]\n",
      " [17 24  9 11  2]\n",
      " [23  9 17 10 13]\n",
      " [ 9  1  9  7  8]]\n",
      " Prime Tensor = \n",
      " [[  2   3   5   7  11]\n",
      " [ 17  19  23  29  31]\n",
      " [ 37  41  43  47  53]\n",
      " [ 59  61  67  71  73]\n",
      " [ 79  83  89  97 101]]\n",
      "========================================\n",
      " Hasil Random Tensor * Prime Tensor = \n",
      " [[  38    3   35  154  176]\n",
      " [ 221  380  115  261   62]\n",
      " [ 629  984  387  517  106]\n",
      " [1357  549 1139  710  949]\n",
      " [ 711   83  801  679  808]]\n"
     ]
    }
   ],
   "source": [
    "kali = tf.multiply(random_tensor, prime_tensor)\n",
    "kali.numpy()\n",
    "\n",
    "print(f'Random Tensor = \\n {random_tensor}')\n",
    "print(f' Prime Tensor = \\n {prime_tensor}')\n",
    "print(\"========================================\")\n",
    "print(f' Hasil Random Tensor * Prime Tensor = \\n {kali}')"
   ]
  },
  {
   "cell_type": "markdown",
   "id": "ecdae01a-0cf2-435b-a2b8-7d2604e631b0",
   "metadata": {},
   "source": [
    "#### [4] DIVIDE"
   ]
  },
  {
   "cell_type": "code",
   "execution_count": 38,
   "id": "adbd23fd-76e8-411a-979e-6936b4493e25",
   "metadata": {},
   "outputs": [
    {
     "name": "stdout",
     "output_type": "stream",
     "text": [
      "Random Tensor = \n",
      " [[19  1  7 22 16]\n",
      " [13 20  5  9  2]\n",
      " [17 24  9 11  2]\n",
      " [23  9 17 10 13]\n",
      " [ 9  1  9  7  8]]\n",
      " Prime Tensor = \n",
      " [[  2   3   5   7  11]\n",
      " [ 17  19  23  29  31]\n",
      " [ 37  41  43  47  53]\n",
      " [ 59  61  67  71  73]\n",
      " [ 79  83  89  97 101]]\n",
      "==========================================================\n",
      " Hasil Random Tensor / Prime Tensor = \n",
      " [[9.5        0.33333333 1.4        3.14285714 1.45454545]\n",
      " [0.76470588 1.05263158 0.2173913  0.31034483 0.06451613]\n",
      " [0.45945946 0.58536585 0.20930233 0.23404255 0.03773585]\n",
      " [0.38983051 0.14754098 0.25373134 0.14084507 0.17808219]\n",
      " [0.11392405 0.01204819 0.1011236  0.07216495 0.07920792]]\n"
     ]
    }
   ],
   "source": [
    "bagi = tf.divide(random_tensor, prime_tensor)\n",
    "bagi.numpy()\n",
    "\n",
    "print(f'Random Tensor = \\n {random_tensor}')\n",
    "print(f' Prime Tensor = \\n {prime_tensor}')\n",
    "print(\"==========================================================\")\n",
    "print(f' Hasil Random Tensor / Prime Tensor = \\n {bagi}')"
   ]
  },
  {
   "cell_type": "markdown",
   "id": "beab2ffa-7ebd-48f4-989d-5508f34a3a2c",
   "metadata": {},
   "source": [
    "#### [5] POW"
   ]
  },
  {
   "cell_type": "code",
   "execution_count": 36,
   "id": "3a49a0d7-be56-44e4-8a13-51dc73976f2d",
   "metadata": {},
   "outputs": [
    {
     "name": "stdout",
     "output_type": "stream",
     "text": [
      "Random Tensor = \n",
      " [[19  1  7 22 16]\n",
      " [13 20  5  9  2]\n",
      " [17 24  9 11  2]\n",
      " [23  9 17 10 13]\n",
      " [ 9  1  9  7  8]]\n",
      " Prime Tensor = \n",
      " [[  2   3   5   7  11]\n",
      " [ 17  19  23  29  31]\n",
      " [ 37  41  43  47  53]\n",
      " [ 59  61  67  71  73]\n",
      " [ 79  83  89  97 101]]\n",
      "===============================================================\n",
      " Hasil Random Tensor - Prime Tensor = \n",
      " [[        361           1       16807 -1800609408           0]\n",
      " [ 1645991757           0 -1883073043 -1635065239 -2147483648]\n",
      " [-1619706799           0 -1762824935  1874949219           0]\n",
      " [ 1671559623   945842025 -2134198479           0 -1232359763]\n",
      " [  740860601           1 -1537102391 -1837705465           0]]\n"
     ]
    }
   ],
   "source": [
    "pangkat = tf.pow(random_tensor, prime_tensor)\n",
    "pangkat.numpy()\n",
    "\n",
    "print(f'Random Tensor = \\n {random_tensor}')\n",
    "print(f' Prime Tensor = \\n {prime_tensor}')\n",
    "print(\"===============================================================\")\n",
    "print(f' Hasil Random Tensor - Prime Tensor = \\n {pangkat}')"
   ]
  },
  {
   "cell_type": "markdown",
   "id": "d694d6a1-77f9-4a27-ad2c-bf2d396ea813",
   "metadata": {},
   "source": [
    "### Tampilkan nilai maksimal dan minimal dari variable random_tensor\n",
    "- Menampilkan nilai max dengan argmax()\n",
    "- Menampilkan nilai min dengan argmin()"
   ]
  },
  {
   "cell_type": "code",
   "execution_count": 59,
   "id": "ea832b40-f1e7-4b18-84ec-2be0fc2bc796",
   "metadata": {},
   "outputs": [
    {
     "name": "stdout",
     "output_type": "stream",
     "text": [
      "Nilai Max random_tensor berdasarkan kolom : [2 4 0 1 2]\n",
      "Nilai Min random_tensor berdasarkan kolom : [3 1 4 0 0]\n"
     ]
    }
   ],
   "source": [
    "# Max\n",
    "max_random_tensor = tf.argmax(random_tensor, axis=0)\n",
    "print(\"Nilai Max random_tensor berdasarkan kolom :\", max_random_tensor.numpy())\n",
    "\n",
    "# Min\n",
    "min_random_tensor = tf.argmin(random_tensor, axis=0)\n",
    "print(\"Nilai Min random_tensor berdasarkan kolom :\", min_random_tensor.numpy())"
   ]
  },
  {
   "cell_type": "markdown",
   "id": "0832ff3e-91e6-4a15-be81-b84219db91d5",
   "metadata": {},
   "source": [
    "### Tampilkan hasil dari penggabungan variable random_tensor dengan prime_tensor (concatenation)\n",
    "Menampilkan hasil dari penggabungan kedua variabel menggunakan .concat()"
   ]
  },
  {
   "cell_type": "code",
   "execution_count": 58,
   "id": "37332e0f-45fb-46db-b799-5711534325bd",
   "metadata": {},
   "outputs": [
    {
     "name": "stdout",
     "output_type": "stream",
     "text": [
      "Random Tensor = \n",
      " [[19  1  7 22 16]\n",
      " [13 20  5  9  2]\n",
      " [17 24  9 11  2]\n",
      " [23  9 17 10 13]\n",
      " [ 9  1  9  7  8]]\n",
      " Prime Tensor = \n",
      " [[  2   3   5   7  11]\n",
      " [ 17  19  23  29  31]\n",
      " [ 37  41  43  47  53]\n",
      " [ 59  61  67  71  73]\n",
      " [ 79  83  89  97 101]]\n",
      "=========================================================\n",
      " Hasil Concat (Gabungan) Random Tensor & Prime Tensor = \n",
      " [[ 19   1   7  22  16   2   3   5   7  11]\n",
      " [ 13  20   5   9   2  17  19  23  29  31]\n",
      " [ 17  24   9  11   2  37  41  43  47  53]\n",
      " [ 23   9  17  10  13  59  61  67  71  73]\n",
      " [  9   1   9   7   8  79  83  89  97 101]]\n"
     ]
    }
   ],
   "source": [
    "concat = tf.concat([random_tensor, prime_tensor], axis=1)\n",
    "concat.numpy()\n",
    "\n",
    "print(f'Random Tensor = \\n {random_tensor}')\n",
    "print(f' Prime Tensor = \\n {prime_tensor}')\n",
    "print(\"=========================================================\")\n",
    "print(f' Hasil Concat (Gabungan) Random Tensor & Prime Tensor = \\n {concat}')"
   ]
  },
  {
   "cell_type": "markdown",
   "id": "06c7fd1e-c5d3-4c6a-80e6-0f53e746e41a",
   "metadata": {},
   "source": [
    "### Tampilkan hasil sorting dari kedua variable di atas. (descending)\n",
    "Menampilkan sorting secara descending berdasarkan /barisnya menggunakan .sort()"
   ]
  },
  {
   "cell_type": "code",
   "execution_count": 57,
   "id": "a44066f8-39e0-438c-a062-8c45efa8ac13",
   "metadata": {},
   "outputs": [
    {
     "name": "stdout",
     "output_type": "stream",
     "text": [
      "Descending Variabel random_tensor\n",
      "Random Tensor = \n",
      " [[19  1  7 22 16]\n",
      " [13 20  5  9  2]\n",
      " [17 24  9 11  2]\n",
      " [23  9 17 10 13]\n",
      " [ 9  1  9  7  8]]\n",
      "==============================\n",
      " Hasil Sorting Descending = \n",
      " [[22 19 16  7  1]\n",
      " [20 13  9  5  2]\n",
      " [24 17 11  9  2]\n",
      " [23 17 13 10  9]\n",
      " [ 9  9  8  7  1]]\n"
     ]
    }
   ],
   "source": [
    "print (\"Descending Variabel random_tensor\")\n",
    "sort_rt = tf.sort(random_tensor, direction=\"DESCENDING\")\n",
    "sort_rt.numpy()\n",
    "\n",
    "print(f'Random Tensor = \\n {random_tensor}')\n",
    "print(\"==============================\")\n",
    "print(f' Hasil Sorting Descending = \\n {sort_rt}')"
   ]
  },
  {
   "cell_type": "code",
   "execution_count": 53,
   "id": "c90047c5-e953-482e-80d5-854d73e9b48b",
   "metadata": {},
   "outputs": [
    {
     "name": "stdout",
     "output_type": "stream",
     "text": [
      "Descending Variabel prime_tensor\n",
      "Random Tensor = \n",
      " [[19  1  7 22 16]\n",
      " [13 20  5  9  2]\n",
      " [17 24  9 11  2]\n",
      " [23  9 17 10 13]\n",
      " [ 9  1  9  7  8]]\n",
      "=============================\n",
      " Hasil Sorting Descending = \n",
      " [[ 11   7   5   3   2]\n",
      " [ 31  29  23  19  17]\n",
      " [ 53  47  43  41  37]\n",
      " [ 73  71  67  61  59]\n",
      " [101  97  89  83  79]]\n"
     ]
    }
   ],
   "source": [
    "print (\"Descending Variabel prime_tensor\")\n",
    "sort_pt = tf.sort(prime_tensor, direction=\"DESCENDING\")\n",
    "sort_pt.numpy()\n",
    "\n",
    "print(f'Random Tensor = \\n {random_tensor}')\n",
    "print(\"=============================\")\n",
    "print(f' Hasil Sorting Descending = \\n {sort_pt}')"
   ]
  },
  {
   "cell_type": "code",
   "execution_count": 56,
   "id": "a8b98c65-756e-44c4-ad59-085c01ecbe77",
   "metadata": {},
   "outputs": [
    {
     "name": "stdout",
     "output_type": "stream",
     "text": [
      "Descending Gabungan Kedua Variabel (Concat)\n",
      "Random Tensor = \n",
      " [[19  1  7 22 16]\n",
      " [13 20  5  9  2]\n",
      " [17 24  9 11  2]\n",
      " [23  9 17 10 13]\n",
      " [ 9  1  9  7  8]]\n",
      "=============================================\n",
      " Hasil Sorting Descending = \n",
      " [[ 22  19  16  11   7   7   5   3   2   1]\n",
      " [ 31  29  23  20  19  17  13   9   5   2]\n",
      " [ 53  47  43  41  37  24  17  11   9   2]\n",
      " [ 73  71  67  61  59  23  17  13  10   9]\n",
      " [101  97  89  83  79   9   9   8   7   1]]\n"
     ]
    }
   ],
   "source": [
    "print (\"Descending Gabungan Kedua Variabel (Concat)\")\n",
    "sort_concat =tf.sort(concat, direction=\"DESCENDING\")\n",
    "sort_concat.numpy()\n",
    "print(f'Random Tensor = \\n {random_tensor}')\n",
    "print(\"=============================================\")\n",
    "print(f' Hasil Sorting Descending = \\n {sort_concat}')"
   ]
  },
  {
   "cell_type": "code",
   "execution_count": null,
   "id": "4e0395cc-8b7e-4724-b21d-0b32d08669c6",
   "metadata": {},
   "outputs": [],
   "source": []
  }
 ],
 "metadata": {
  "kernelspec": {
   "display_name": "Python 3 (ipykernel)",
   "language": "python",
   "name": "python3"
  },
  "language_info": {
   "codemirror_mode": {
    "name": "ipython",
    "version": 3
   },
   "file_extension": ".py",
   "mimetype": "text/x-python",
   "name": "python",
   "nbconvert_exporter": "python",
   "pygments_lexer": "ipython3",
   "version": "3.10.7"
  }
 },
 "nbformat": 4,
 "nbformat_minor": 5
}
