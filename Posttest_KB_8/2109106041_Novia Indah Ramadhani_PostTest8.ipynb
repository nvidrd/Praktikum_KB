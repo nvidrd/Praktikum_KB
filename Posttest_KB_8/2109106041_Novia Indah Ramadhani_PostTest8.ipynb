{
 "cells": [
  {
   "cell_type": "markdown",
   "id": "fef3985e-4a98-4624-8068-cfd807f5d7a3",
   "metadata": {},
   "source": [
    "# Post Test 8 | Deep Learning\n",
    "#### Nama   : Novia Indah Ramadhani\n",
    "#### NIM    : 2109106041\n",
    "#### Kelas  : A2 2021\n",
    "#### Dataset : Fashion MNIST\n",
    "#### Link Dataset : https://www.tensorflow.org/datasets/catalog/fashion_mnist"
   ]
  },
  {
   "cell_type": "markdown",
   "id": "b9c47e27-c567-4223-82b3-d1b4ecf6e6f8",
   "metadata": {},
   "source": [
    "## Import Library"
   ]
  },
  {
   "cell_type": "code",
   "execution_count": 1,
   "id": "028ae35f-d56f-40ae-9b61-fd692ac9fd7e",
   "metadata": {},
   "outputs": [],
   "source": [
    "import numpy as np\n",
    "import matplotlib.pyplot as plt\n",
    "import tensorflow as tf\n",
    "\n",
    "from tensorflow.keras import Sequential\n",
    "from tensorflow.keras.layers import Dense"
   ]
  },
  {
   "cell_type": "markdown",
   "id": "893f9944-35c4-4f21-8d88-b25d45111010",
   "metadata": {},
   "source": [
    "## Klasifikasi Dataset"
   ]
  },
  {
   "cell_type": "code",
   "execution_count": 40,
   "id": "2ebb620d-f511-4cd7-81b0-d7012a1f145e",
   "metadata": {},
   "outputs": [],
   "source": [
    "from tensorflow import keras\n",
    "\n",
    "# Import Dataset dari Tensorflow\n",
    "from tensorflow.keras.datasets import fashion_mnist"
   ]
  },
  {
   "cell_type": "code",
   "execution_count": 41,
   "id": "82b4cfbd-0a67-4ec0-bf10-9a46eb93c68a",
   "metadata": {},
   "outputs": [],
   "source": [
    "(x_train_raw, y_train_raw), (x_test_raw, y_test_raw) = fashion_mnist.load_data()"
   ]
  },
  {
   "cell_type": "markdown",
   "id": "a2eb4a44-59b1-4602-b04b-7e528e6bc611",
   "metadata": {},
   "source": [
    "## Encoding Label"
   ]
  },
  {
   "cell_type": "code",
   "execution_count": 4,
   "id": "b2ed057f-e60f-43dc-8047-cbfbcbc9cda9",
   "metadata": {},
   "outputs": [],
   "source": [
    "# Terdapat 10 label\n",
    "y_train = keras.utils.to_categorical(y_train_raw, 10)\n",
    "y_test = keras.utils.to_categorical(y_test_raw, 10)"
   ]
  },
  {
   "cell_type": "code",
   "execution_count": 5,
   "id": "aa04a365-118e-4d7d-b35c-0b89b1ed55d5",
   "metadata": {},
   "outputs": [
    {
     "data": {
      "image/png": "[encoded data removed]",
      "text/plain": [
       "<Figure size 600x600 with 10 Axes>"
      ]
     },
     "metadata": {},
     "output_type": "display_data"
    }
   ],
   "source": [
    "# Menampilkan 10 data pertama dari x_train\n",
    "plt.figure(figsize=(6,6))\n",
    "for i in range(10):\n",
    "    plt.subplot(3,4, i+1)\n",
    "    plt.imshow(x_train_raw[i])\n",
    "    plt.axis(\"off\")\n",
    "plt.show()"
   ]
  },
  {
   "cell_type": "code",
   "execution_count": 35,
   "id": "8202d77a-04ae-4b1f-8648-52a893fdf8f8",
   "metadata": {},
   "outputs": [
    {
     "name": "stdout",
     "output_type": "stream",
     "text": [
      "Data Train = (60000, 28, 28)\n",
      "Data Test = (10000, 28, 28)\n"
     ]
    }
   ],
   "source": [
    "# Total gambar terdapat 60.000 pada x train\n",
    "print(f'Data Train = {x_train_raw.shape}')\n",
    "print(f'Data Test = {x_test_raw.shape}')"
   ]
  },
  {
   "cell_type": "markdown",
   "id": "67b25418-3f1d-45a4-8875-a8f68c271855",
   "metadata": {},
   "source": [
    "## Reshape Gambar"
   ]
  },
  {
   "cell_type": "code",
   "execution_count": 36,
   "id": "cc38f2ab-7560-44a3-adf4-ef2b094a8b13",
   "metadata": {},
   "outputs": [],
   "source": [
    "x_train = x_train_raw.reshape(60000, 784)\n",
    "x_test = x_test_raw.reshape(10000, 784)"
   ]
  },
  {
   "cell_type": "markdown",
   "id": "a61589ef-6e65-4da0-8d72-08832fa6f292",
   "metadata": {},
   "source": [
    "## Pembuatan Modeling"
   ]
  },
  {
   "cell_type": "code",
   "execution_count": 37,
   "id": "dbed0b47-01d3-46b2-a520-3acf80bcd38a",
   "metadata": {},
   "outputs": [],
   "source": [
    "model = Sequential()"
   ]
  },
  {
   "cell_type": "markdown",
   "id": "8e7a4af1-1f41-4e15-a05a-7c17321f9e4c",
   "metadata": {},
   "source": [
    "#### - Input Layer"
   ]
  },
  {
   "cell_type": "code",
   "execution_count": 10,
   "id": "54a321cd-1fc6-4085-9327-33e6bb7f107e",
   "metadata": {},
   "outputs": [],
   "source": [
    "model.add(\n",
    "    Dense\n",
    "    (512, \n",
    "     activation = 'relu', \n",
    "     input_dim  = 784\n",
    "    )\n",
    ")"
   ]
  },
  {
   "cell_type": "markdown",
   "id": "bc9acc03-6821-47be-bd69-6e19e3f0c100",
   "metadata": {},
   "source": [
    "#### - Hidden Layer"
   ]
  },
  {
   "cell_type": "code",
   "execution_count": 11,
   "id": "e14da8f0-fbbc-46dc-856e-da3c489819d1",
   "metadata": {},
   "outputs": [],
   "source": [
    "model.add(Dense(256, activation='relu'))\n",
    "model.add(Dense(128, activation='relu'))"
   ]
  },
  {
   "cell_type": "markdown",
   "id": "7990252c-4f5e-4116-bbac-af173ab9b211",
   "metadata": {},
   "source": [
    "#### - Output Layer\n",
    "-> Menggunakan 10 gambar"
   ]
  },
  {
   "cell_type": "code",
   "execution_count": 12,
   "id": "37a4781b-620e-4220-a64f-16c043fae8d6",
   "metadata": {},
   "outputs": [],
   "source": [
    "model.add(Dense(10, activation='softmax'))"
   ]
  },
  {
   "cell_type": "markdown",
   "id": "a1894f98-fea6-481b-8350-76fe500363d9",
   "metadata": {},
   "source": [
    "## Model Summary"
   ]
  },
  {
   "cell_type": "code",
   "execution_count": 13,
   "id": "6c183d64-015e-46d2-9171-1195711f9b94",
   "metadata": {},
   "outputs": [
    {
     "name": "stdout",
     "output_type": "stream",
     "text": [
      "Model: \"sequential\"\n",
      "_________________________________________________________________\n",
      " Layer (type)                Output Shape              Param #   \n",
      "=================================================================\n",
      " dense (Dense)               (None, 512)               401920    \n",
      "                                                                 \n",
      " dense_1 (Dense)             (None, 256)               131328    \n",
      "                                                                 \n",
      " dense_2 (Dense)             (None, 128)               32896     \n",
      "                                                                 \n",
      " dense_3 (Dense)             (None, 10)                1290      \n",
      "                                                                 \n",
      "=================================================================\n",
      "Total params: 567,434\n",
      "Trainable params: 567,434\n",
      "Non-trainable params: 0\n",
      "_________________________________________________________________\n"
     ]
    }
   ],
   "source": [
    "model.summary()"
   ]
  },
  {
   "cell_type": "markdown",
   "id": "37139541-271e-42ee-ab67-3454ab287f9f",
   "metadata": {},
   "source": [
    "### Compile Model"
   ]
  },
  {
   "cell_type": "code",
   "execution_count": 14,
   "id": "ed45d997-c34f-4f3f-b7e1-2a576bcb7522",
   "metadata": {},
   "outputs": [],
   "source": [
    "model.compile(\n",
    "    optimizer = 'adam', \n",
    "    loss = 'categorical_crossentropy', \n",
    "    metrics = ['accuracy']\n",
    ")"
   ]
  },
  {
   "cell_type": "code",
   "execution_count": 15,
   "id": "813fd230-d8aa-4018-906f-7eb65e507dce",
   "metadata": {},
   "outputs": [
    {
     "name": "stdout",
     "output_type": "stream",
     "text": [
      "Epoch 1/9\n",
      "118/118 [==============================] - 4s 24ms/step - loss: 8.4569 - accuracy: 0.7257 - val_loss: 1.5515 - val_accuracy: 0.7850\n",
      "Epoch 2/9\n",
      "118/118 [==============================] - 2s 20ms/step - loss: 1.1996 - accuracy: 0.8035 - val_loss: 0.9642 - val_accuracy: 0.8184\n",
      "Epoch 3/9\n",
      "118/118 [==============================] - 2s 20ms/step - loss: 0.7875 - accuracy: 0.8281 - val_loss: 1.1337 - val_accuracy: 0.7979\n",
      "Epoch 4/9\n",
      "118/118 [==============================] - 3s 22ms/step - loss: 0.6484 - accuracy: 0.8394 - val_loss: 0.7574 - val_accuracy: 0.8143\n",
      "Epoch 5/9\n",
      "118/118 [==============================] - 3s 21ms/step - loss: 0.5195 - accuracy: 0.8537 - val_loss: 0.6108 - val_accuracy: 0.8415\n",
      "Epoch 6/9\n",
      "118/118 [==============================] - 2s 21ms/step - loss: 0.4433 - accuracy: 0.8644 - val_loss: 0.5912 - val_accuracy: 0.8431\n",
      "Epoch 7/9\n",
      "118/118 [==============================] - 2s 21ms/step - loss: 0.4001 - accuracy: 0.8722 - val_loss: 0.5719 - val_accuracy: 0.8429\n",
      "Epoch 8/9\n",
      "118/118 [==============================] - 2s 21ms/step - loss: 0.3354 - accuracy: 0.8845 - val_loss: 0.5355 - val_accuracy: 0.8464\n",
      "Epoch 9/9\n",
      "118/118 [==============================] - 2s 20ms/step - loss: 0.3210 - accuracy: 0.8888 - val_loss: 0.5107 - val_accuracy: 0.8515\n"
     ]
    },
    {
     "data": {
      "text/plain": [
       "<keras.callbacks.History at 0x24f269b5720>"
      ]
     },
     "execution_count": 15,
     "metadata": {},
     "output_type": "execute_result"
    }
   ],
   "source": [
    "model.fit(\n",
    "    x_train, \n",
    "    y_train, \n",
    "    epochs = 9, \n",
    "    batch_size = 512, \n",
    "    validation_data = (x_test, y_test)\n",
    ")"
   ]
  },
  {
   "cell_type": "code",
   "execution_count": 16,
   "id": "8e4fb01d-daa2-4f8f-ae46-6b1116f2f519",
   "metadata": {},
   "outputs": [
    {
     "name": "stdout",
     "output_type": "stream",
     "text": [
      "Epoch 1/9\n",
      "118/118 [==============================] - 2s 20ms/step - loss: 0.2947 - accuracy: 0.8952 - val_loss: 0.4814 - val_accuracy: 0.8567\n",
      "Epoch 2/9\n",
      "118/118 [==============================] - 2s 21ms/step - loss: 0.2811 - accuracy: 0.8993 - val_loss: 0.4795 - val_accuracy: 0.8594\n",
      "Epoch 3/9\n",
      "118/118 [==============================] - 2s 21ms/step - loss: 0.2713 - accuracy: 0.9030 - val_loss: 0.4963 - val_accuracy: 0.8537\n",
      "Epoch 4/9\n",
      "118/118 [==============================] - 3s 21ms/step - loss: 0.2540 - accuracy: 0.9075 - val_loss: 0.4559 - val_accuracy: 0.8619\n",
      "Epoch 5/9\n",
      "118/118 [==============================] - 3s 22ms/step - loss: 0.2371 - accuracy: 0.9126 - val_loss: 0.4776 - val_accuracy: 0.8599\n",
      "Epoch 6/9\n",
      "118/118 [==============================] - 2s 20ms/step - loss: 0.2401 - accuracy: 0.9115 - val_loss: 0.5173 - val_accuracy: 0.8478\n",
      "Epoch 7/9\n",
      "118/118 [==============================] - 2s 20ms/step - loss: 0.2379 - accuracy: 0.9134 - val_loss: 0.4717 - val_accuracy: 0.8620\n",
      "Epoch 8/9\n",
      "118/118 [==============================] - 3s 21ms/step - loss: 0.2270 - accuracy: 0.9164 - val_loss: 0.4855 - val_accuracy: 0.8533\n",
      "Epoch 9/9\n",
      "118/118 [==============================] - 2s 21ms/step - loss: 0.2236 - accuracy: 0.9188 - val_loss: 0.4824 - val_accuracy: 0.8606\n"
     ]
    }
   ],
   "source": [
    "history = model.fit(x_train, y_train, epochs=9, batch_size=512, validation_data=(x_test, y_test))"
   ]
  },
  {
   "cell_type": "code",
   "execution_count": 17,
   "id": "9e208433-6ba3-4b1d-91b5-f4236fd4c133",
   "metadata": {},
   "outputs": [
    {
     "data": {
      "text/plain": [
       "dict_keys(['loss', 'accuracy', 'val_loss', 'val_accuracy'])"
      ]
     },
     "execution_count": 17,
     "metadata": {},
     "output_type": "execute_result"
    }
   ],
   "source": [
    "history.history.keys()"
   ]
  },
  {
   "cell_type": "markdown",
   "id": "9d367cbb-136d-4d6d-b5c4-2476392a78bd",
   "metadata": {},
   "source": [
    "### Cek Akurasi"
   ]
  },
  {
   "cell_type": "code",
   "execution_count": 19,
   "id": "cf56dafd-d419-420a-ab88-9d228b812fae",
   "metadata": {},
   "outputs": [
    {
     "name": "stdout",
     "output_type": "stream",
     "text": [
      "313/313 [==============================] - 1s 4ms/step - loss: 0.4824 - accuracy: 0.8606\n",
      "AKURASI :  0.8605999946594238\n",
      "LOSS :  0.4824022352695465\n"
     ]
    }
   ],
   "source": [
    "score = model.evaluate(x_test, y_test)\n",
    "print(\"AKURASI : \", score[1])\n",
    "print(\"LOSS : \", score[0])"
   ]
  },
  {
   "cell_type": "markdown",
   "id": "e7575fd5-727d-4ecf-8177-99fa41789c09",
   "metadata": {},
   "source": [
    "## Prediksi"
   ]
  },
  {
   "cell_type": "code",
   "execution_count": 20,
   "id": "1550bc7e-674b-4c35-b029-d8a6ef823145",
   "metadata": {},
   "outputs": [
    {
     "name": "stdout",
     "output_type": "stream",
     "text": [
      "313/313 [==============================] - 1s 4ms/step\n"
     ]
    }
   ],
   "source": [
    "prediction = model.predict(x_test)"
   ]
  },
  {
   "cell_type": "code",
   "execution_count": 21,
   "id": "9aafc1a2-d85e-4247-ae3d-194328d7ca7f",
   "metadata": {},
   "outputs": [],
   "source": [
    "label = np.argmax(prediction, axis=1)"
   ]
  },
  {
   "cell_type": "code",
   "execution_count": 22,
   "id": "6280a17c-00cb-45f1-b210-52579f32479b",
   "metadata": {},
   "outputs": [],
   "source": [
    "label_aktual = np.argmax(y_test[1]) # Prediksi gambar ke5 dari Test set"
   ]
  },
  {
   "cell_type": "code",
   "execution_count": 23,
   "id": "6d1d87b2-68f1-4b91-bc61-9451b19a0310",
   "metadata": {},
   "outputs": [],
   "source": [
    "img = x_test[1].reshape(28,28)"
   ]
  },
  {
   "cell_type": "code",
   "execution_count": 24,
   "id": "ae06595b-e8df-4d9f-bc89-f92576ef8801",
   "metadata": {},
   "outputs": [
    {
     "data": {
      "image/png": "[encoded data removed]",
      "text/plain": [
       "<Figure size 200x200 with 1 Axes>"
      ]
     },
     "metadata": {},
     "output_type": "display_data"
    },
    {
     "name": "stdout",
     "output_type": "stream",
     "text": [
      "Aktual Label:  2\n",
      "Label Prediksi:  2\n"
     ]
    }
   ],
   "source": [
    "plt.figure(figsize=(2,2))\n",
    "plt.imshow(img)\n",
    "plt.show()\n",
    "print(\"Aktual Label: \", label_aktual)\n",
    "print(\"Label Prediksi: \", label[1])"
   ]
  },
  {
   "cell_type": "code",
   "execution_count": 25,
   "id": "c47b303a-7335-4259-9fbc-476932381de7",
   "metadata": {},
   "outputs": [
    {
     "data": {
      "image/png": "[encoded data removed]",
      "text/plain": [
       "<Figure size 1300x700 with 9 Axes>"
      ]
     },
     "metadata": {},
     "output_type": "display_data"
    }
   ],
   "source": [
    "plt.figure(figsize=(13, 7))\n",
    "for i in range(9):\n",
    "    plt.subplot(3,3, i+1)\n",
    "    \n",
    "    actual_label = np.argmax(y_test[i])\n",
    "    plt.title(f'Label Aktual: {actual_label}, Label Prediksi: {label[i]}')\n",
    "    plt.imshow(x_test[i].reshape(28,28))\n",
    "    plt.axis(\"off\")\n",
    "\n",
    "plt.show()"
   ]
  },
  {
   "cell_type": "code",
   "execution_count": null,
   "id": "11ccda71-7bb2-4260-9431-dd6e20d8402a",
   "metadata": {},
   "outputs": [],
   "source": []
  }
 ],
 "metadata": {
  "kernelspec": {
   "display_name": "Python 3 (ipykernel)",
   "language": "python",
   "name": "python3"
  },
  "language_info": {
   "codemirror_mode": {
    "name": "ipython",
    "version": 3
   },
   "file_extension": ".py",
   "mimetype": "text/x-python",
   "name": "python",
   "nbconvert_exporter": "python",
   "pygments_lexer": "ipython3",
   "version": "3.10.7"
  }
 },
 "nbformat": 4,
 "nbformat_minor": 5
}
